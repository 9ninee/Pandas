{
 "cells": [
  {
   "cell_type": "code",
   "execution_count": 8,
   "metadata": {},
   "outputs": [
    {
     "ename": "UnicodeDecodeError",
     "evalue": "'utf-8' codec can't decode bytes in position 15-16: invalid continuation byte",
     "output_type": "error",
     "traceback": [
      "\u001b[0;31m---------------------------------------------------------------------------\u001b[0m",
      "\u001b[0;31mUnicodeDecodeError\u001b[0m                        Traceback (most recent call last)",
      "\u001b[1;32m/Users/nigel/Library/Mobile Documents/com~apple~CloudDocs/Programme/AccountApp/Streamlit/PandasPractise.ipynb Cell 1\u001b[0m in \u001b[0;36m<cell line: 12>\u001b[0;34m()\u001b[0m\n\u001b[1;32m      <a href='vscode-notebook-cell:/Users/nigel/Library/Mobile%20Documents/com~apple~CloudDocs/Programme/AccountApp/Streamlit/PandasPractise.ipynb#W0sZmlsZQ%3D%3D?line=8'>9</a>\u001b[0m catnpath \u001b[39m=\u001b[39m \u001b[39m'\u001b[39m\u001b[39mpages/Temp/Excel/DiscriptionCategories.xlsx\u001b[39m\u001b[39m'\u001b[39m\n\u001b[1;32m     <a href='vscode-notebook-cell:/Users/nigel/Library/Mobile%20Documents/com~apple~CloudDocs/Programme/AccountApp/Streamlit/PandasPractise.ipynb#W0sZmlsZQ%3D%3D?line=9'>10</a>\u001b[0m catopath \u001b[39m=\u001b[39m \u001b[39m'\u001b[39m\u001b[39mpages/Temp/Record/DiscriptionCategories.xlsx\u001b[39m\u001b[39m'\u001b[39m\n\u001b[0;32m---> <a href='vscode-notebook-cell:/Users/nigel/Library/Mobile%20Documents/com~apple~CloudDocs/Programme/AccountApp/Streamlit/PandasPractise.ipynb#W0sZmlsZQ%3D%3D?line=11'>12</a>\u001b[0m df \u001b[39m=\u001b[39m pd\u001b[39m.\u001b[39;49mread_csv(dfnpath,index_col\u001b[39m=\u001b[39;49m[\u001b[39m0\u001b[39;49m])\n\u001b[1;32m     <a href='vscode-notebook-cell:/Users/nigel/Library/Mobile%20Documents/com~apple~CloudDocs/Programme/AccountApp/Streamlit/PandasPractise.ipynb#W0sZmlsZQ%3D%3D?line=12'>13</a>\u001b[0m df \u001b[39m=\u001b[39m df\u001b[39m.\u001b[39mdropna(axis\u001b[39m=\u001b[39m\u001b[39m1\u001b[39m,how\u001b[39m=\u001b[39m\u001b[39m'\u001b[39m\u001b[39mall\u001b[39m\u001b[39m'\u001b[39m)\n\u001b[1;32m     <a href='vscode-notebook-cell:/Users/nigel/Library/Mobile%20Documents/com~apple~CloudDocs/Programme/AccountApp/Streamlit/PandasPractise.ipynb#W0sZmlsZQ%3D%3D?line=13'>14</a>\u001b[0m catn \u001b[39m=\u001b[39m pd\u001b[39m.\u001b[39mread_excel(catnpath)\n",
      "File \u001b[0;32m/Library/Frameworks/Python.framework/Versions/3.10/lib/python3.10/site-packages/pandas/util/_decorators.py:311\u001b[0m, in \u001b[0;36mdeprecate_nonkeyword_arguments.<locals>.decorate.<locals>.wrapper\u001b[0;34m(*args, **kwargs)\u001b[0m\n\u001b[1;32m    305\u001b[0m \u001b[39mif\u001b[39;00m \u001b[39mlen\u001b[39m(args) \u001b[39m>\u001b[39m num_allow_args:\n\u001b[1;32m    306\u001b[0m     warnings\u001b[39m.\u001b[39mwarn(\n\u001b[1;32m    307\u001b[0m         msg\u001b[39m.\u001b[39mformat(arguments\u001b[39m=\u001b[39marguments),\n\u001b[1;32m    308\u001b[0m         \u001b[39mFutureWarning\u001b[39;00m,\n\u001b[1;32m    309\u001b[0m         stacklevel\u001b[39m=\u001b[39mstacklevel,\n\u001b[1;32m    310\u001b[0m     )\n\u001b[0;32m--> 311\u001b[0m \u001b[39mreturn\u001b[39;00m func(\u001b[39m*\u001b[39;49margs, \u001b[39m*\u001b[39;49m\u001b[39m*\u001b[39;49mkwargs)\n",
      "File \u001b[0;32m/Library/Frameworks/Python.framework/Versions/3.10/lib/python3.10/site-packages/pandas/io/parsers/readers.py:680\u001b[0m, in \u001b[0;36mread_csv\u001b[0;34m(filepath_or_buffer, sep, delimiter, header, names, index_col, usecols, squeeze, prefix, mangle_dupe_cols, dtype, engine, converters, true_values, false_values, skipinitialspace, skiprows, skipfooter, nrows, na_values, keep_default_na, na_filter, verbose, skip_blank_lines, parse_dates, infer_datetime_format, keep_date_col, date_parser, dayfirst, cache_dates, iterator, chunksize, compression, thousands, decimal, lineterminator, quotechar, quoting, doublequote, escapechar, comment, encoding, encoding_errors, dialect, error_bad_lines, warn_bad_lines, on_bad_lines, delim_whitespace, low_memory, memory_map, float_precision, storage_options)\u001b[0m\n\u001b[1;32m    665\u001b[0m kwds_defaults \u001b[39m=\u001b[39m _refine_defaults_read(\n\u001b[1;32m    666\u001b[0m     dialect,\n\u001b[1;32m    667\u001b[0m     delimiter,\n\u001b[0;32m   (...)\u001b[0m\n\u001b[1;32m    676\u001b[0m     defaults\u001b[39m=\u001b[39m{\u001b[39m\"\u001b[39m\u001b[39mdelimiter\u001b[39m\u001b[39m\"\u001b[39m: \u001b[39m\"\u001b[39m\u001b[39m,\u001b[39m\u001b[39m\"\u001b[39m},\n\u001b[1;32m    677\u001b[0m )\n\u001b[1;32m    678\u001b[0m kwds\u001b[39m.\u001b[39mupdate(kwds_defaults)\n\u001b[0;32m--> 680\u001b[0m \u001b[39mreturn\u001b[39;00m _read(filepath_or_buffer, kwds)\n",
      "File \u001b[0;32m/Library/Frameworks/Python.framework/Versions/3.10/lib/python3.10/site-packages/pandas/io/parsers/readers.py:575\u001b[0m, in \u001b[0;36m_read\u001b[0;34m(filepath_or_buffer, kwds)\u001b[0m\n\u001b[1;32m    572\u001b[0m _validate_names(kwds\u001b[39m.\u001b[39mget(\u001b[39m\"\u001b[39m\u001b[39mnames\u001b[39m\u001b[39m\"\u001b[39m, \u001b[39mNone\u001b[39;00m))\n\u001b[1;32m    574\u001b[0m \u001b[39m# Create the parser.\u001b[39;00m\n\u001b[0;32m--> 575\u001b[0m parser \u001b[39m=\u001b[39m TextFileReader(filepath_or_buffer, \u001b[39m*\u001b[39;49m\u001b[39m*\u001b[39;49mkwds)\n\u001b[1;32m    577\u001b[0m \u001b[39mif\u001b[39;00m chunksize \u001b[39mor\u001b[39;00m iterator:\n\u001b[1;32m    578\u001b[0m     \u001b[39mreturn\u001b[39;00m parser\n",
      "File \u001b[0;32m/Library/Frameworks/Python.framework/Versions/3.10/lib/python3.10/site-packages/pandas/io/parsers/readers.py:934\u001b[0m, in \u001b[0;36mTextFileReader.__init__\u001b[0;34m(self, f, engine, **kwds)\u001b[0m\n\u001b[1;32m    931\u001b[0m     \u001b[39mself\u001b[39m\u001b[39m.\u001b[39moptions[\u001b[39m\"\u001b[39m\u001b[39mhas_index_names\u001b[39m\u001b[39m\"\u001b[39m] \u001b[39m=\u001b[39m kwds[\u001b[39m\"\u001b[39m\u001b[39mhas_index_names\u001b[39m\u001b[39m\"\u001b[39m]\n\u001b[1;32m    933\u001b[0m \u001b[39mself\u001b[39m\u001b[39m.\u001b[39mhandles: IOHandles \u001b[39m|\u001b[39m \u001b[39mNone\u001b[39;00m \u001b[39m=\u001b[39m \u001b[39mNone\u001b[39;00m\n\u001b[0;32m--> 934\u001b[0m \u001b[39mself\u001b[39m\u001b[39m.\u001b[39m_engine \u001b[39m=\u001b[39m \u001b[39mself\u001b[39;49m\u001b[39m.\u001b[39;49m_make_engine(f, \u001b[39mself\u001b[39;49m\u001b[39m.\u001b[39;49mengine)\n",
      "File \u001b[0;32m/Library/Frameworks/Python.framework/Versions/3.10/lib/python3.10/site-packages/pandas/io/parsers/readers.py:1236\u001b[0m, in \u001b[0;36mTextFileReader._make_engine\u001b[0;34m(self, f, engine)\u001b[0m\n\u001b[1;32m   1233\u001b[0m     \u001b[39mraise\u001b[39;00m \u001b[39mValueError\u001b[39;00m(msg)\n\u001b[1;32m   1235\u001b[0m \u001b[39mtry\u001b[39;00m:\n\u001b[0;32m-> 1236\u001b[0m     \u001b[39mreturn\u001b[39;00m mapping[engine](f, \u001b[39m*\u001b[39;49m\u001b[39m*\u001b[39;49m\u001b[39mself\u001b[39;49m\u001b[39m.\u001b[39;49moptions)\n\u001b[1;32m   1237\u001b[0m \u001b[39mexcept\u001b[39;00m \u001b[39mException\u001b[39;00m:\n\u001b[1;32m   1238\u001b[0m     \u001b[39mif\u001b[39;00m \u001b[39mself\u001b[39m\u001b[39m.\u001b[39mhandles \u001b[39mis\u001b[39;00m \u001b[39mnot\u001b[39;00m \u001b[39mNone\u001b[39;00m:\n",
      "File \u001b[0;32m/Library/Frameworks/Python.framework/Versions/3.10/lib/python3.10/site-packages/pandas/io/parsers/c_parser_wrapper.py:75\u001b[0m, in \u001b[0;36mCParserWrapper.__init__\u001b[0;34m(self, src, **kwds)\u001b[0m\n\u001b[1;32m     72\u001b[0m     kwds\u001b[39m.\u001b[39mpop(key, \u001b[39mNone\u001b[39;00m)\n\u001b[1;32m     74\u001b[0m kwds[\u001b[39m\"\u001b[39m\u001b[39mdtype\u001b[39m\u001b[39m\"\u001b[39m] \u001b[39m=\u001b[39m ensure_dtype_objs(kwds\u001b[39m.\u001b[39mget(\u001b[39m\"\u001b[39m\u001b[39mdtype\u001b[39m\u001b[39m\"\u001b[39m, \u001b[39mNone\u001b[39;00m))\n\u001b[0;32m---> 75\u001b[0m \u001b[39mself\u001b[39m\u001b[39m.\u001b[39m_reader \u001b[39m=\u001b[39m parsers\u001b[39m.\u001b[39;49mTextReader(src, \u001b[39m*\u001b[39;49m\u001b[39m*\u001b[39;49mkwds)\n\u001b[1;32m     77\u001b[0m \u001b[39mself\u001b[39m\u001b[39m.\u001b[39munnamed_cols \u001b[39m=\u001b[39m \u001b[39mself\u001b[39m\u001b[39m.\u001b[39m_reader\u001b[39m.\u001b[39munnamed_cols\n\u001b[1;32m     79\u001b[0m \u001b[39m# error: Cannot determine type of 'names'\u001b[39;00m\n",
      "File \u001b[0;32m/Library/Frameworks/Python.framework/Versions/3.10/lib/python3.10/site-packages/pandas/_libs/parsers.pyx:544\u001b[0m, in \u001b[0;36mpandas._libs.parsers.TextReader.__cinit__\u001b[0;34m()\u001b[0m\n",
      "File \u001b[0;32m/Library/Frameworks/Python.framework/Versions/3.10/lib/python3.10/site-packages/pandas/_libs/parsers.pyx:633\u001b[0m, in \u001b[0;36mpandas._libs.parsers.TextReader._get_header\u001b[0;34m()\u001b[0m\n",
      "File \u001b[0;32m/Library/Frameworks/Python.framework/Versions/3.10/lib/python3.10/site-packages/pandas/_libs/parsers.pyx:847\u001b[0m, in \u001b[0;36mpandas._libs.parsers.TextReader._tokenize_rows\u001b[0;34m()\u001b[0m\n",
      "File \u001b[0;32m/Library/Frameworks/Python.framework/Versions/3.10/lib/python3.10/site-packages/pandas/_libs/parsers.pyx:1952\u001b[0m, in \u001b[0;36mpandas._libs.parsers.raise_parser_error\u001b[0;34m()\u001b[0m\n",
      "\u001b[0;31mUnicodeDecodeError\u001b[0m: 'utf-8' codec can't decode bytes in position 15-16: invalid continuation byte"
     ]
    }
   ],
   "source": [
    "import pandas as pd\n",
    "import numpy as np\n",
    "import os\n",
    "from datetime import date\n",
    "\n",
    "##sources of file \n",
    "dfnpath = 'pages/Temp/Excel/15101160_20220519_0443.xlsx'\n",
    "dfopath = 'pages/Temp/Record/Data.csv'\n",
    "catnpath = 'pages/Temp/Excel/DiscriptionCategories.xlsx'\n",
    "catopath = 'pages/Temp/Record/DiscriptionCategories.xlsx'\n",
    "\n",
    "df = pd.read_csv(dfnpath,encoding='latin1',index_col=[0])\n",
    "df = df.dropna(axis=1,how='all')\n",
    "catn = pd.read_excel(catnpath)\n",
    "cato = pd.read_excel(catopath)\n",
    "dfo = pd.read_csv(dfopath,encoding='latin1',index_col=[0])\n",
    "dfo = dfo.dropna(axis=1,how='all')\n",
    "\n",
    "## delete columns from the table \n",
    "df = df.drop(columns=['Account Number','Balance','Transaction Type','Sort Code'])\n",
    "catn = catn.drop(columns=['Transaction Date','Debit Amount','Credit Amount'])\n",
    "\n",
    "# combine new and old cat table\n",
    "cat = pd.concat([catn,cato], ignore_index=True)\n",
    "df = pd.concat([df,dfo], ignore_index=True)\n",
    "\n",
    "## change data type into string \n",
    "df['Transaction Description'] = df['Transaction Description'].astype(str)"
   ]
  },
  {
   "cell_type": "code",
   "execution_count": null,
   "metadata": {},
   "outputs": [
    {
     "data": {
      "text/html": [
       "<div>\n",
       "<style scoped>\n",
       "    .dataframe tbody tr th:only-of-type {\n",
       "        vertical-align: middle;\n",
       "    }\n",
       "\n",
       "    .dataframe tbody tr th {\n",
       "        vertical-align: top;\n",
       "    }\n",
       "\n",
       "    .dataframe thead th {\n",
       "        text-align: right;\n",
       "    }\n",
       "</style>\n",
       "<table border=\"1\" class=\"dataframe\">\n",
       "  <thead>\n",
       "    <tr style=\"text-align: right;\">\n",
       "      <th></th>\n",
       "      <th>Transaction Date</th>\n",
       "      <th>Transaction Description</th>\n",
       "      <th>Debit Amount</th>\n",
       "      <th>Credit Amount</th>\n",
       "      <th>Categories</th>\n",
       "    </tr>\n",
       "  </thead>\n",
       "  <tbody>\n",
       "    <tr>\n",
       "      <th>0</th>\n",
       "      <td>25/04/2022</td>\n",
       "      <td>COMMON ROOM</td>\n",
       "      <td>14.50</td>\n",
       "      <td>NaN</td>\n",
       "      <td>NaN</td>\n",
       "    </tr>\n",
       "    <tr>\n",
       "      <th>1</th>\n",
       "      <td>25/04/2022</td>\n",
       "      <td>J D WETHERSPOON PL</td>\n",
       "      <td>6.45</td>\n",
       "      <td>NaN</td>\n",
       "      <td>NaN</td>\n",
       "    </tr>\n",
       "    <tr>\n",
       "      <th>2</th>\n",
       "      <td>25/04/2022</td>\n",
       "      <td>RCPMOTO</td>\n",
       "      <td>1543.26</td>\n",
       "      <td>NaN</td>\n",
       "      <td>NaN</td>\n",
       "    </tr>\n",
       "    <tr>\n",
       "      <th>3</th>\n",
       "      <td>26/04/2022</td>\n",
       "      <td>NTSU - CITY COSTA</td>\n",
       "      <td>4.50</td>\n",
       "      <td>NaN</td>\n",
       "      <td>NaN</td>\n",
       "    </tr>\n",
       "    <tr>\n",
       "      <th>4</th>\n",
       "      <td>26/04/2022</td>\n",
       "      <td>TESCO STORE 2960</td>\n",
       "      <td>3.35</td>\n",
       "      <td>NaN</td>\n",
       "      <td>NaN</td>\n",
       "    </tr>\n",
       "  </tbody>\n",
       "</table>\n",
       "</div>"
      ],
      "text/plain": [
       "  Transaction Date Transaction Description  Debit Amount  Credit Amount  \\\n",
       "0       25/04/2022             COMMON ROOM         14.50            NaN   \n",
       "1       25/04/2022      J D WETHERSPOON PL          6.45            NaN   \n",
       "2       25/04/2022                 RCPMOTO       1543.26            NaN   \n",
       "3       26/04/2022       NTSU - CITY COSTA          4.50            NaN   \n",
       "4       26/04/2022        TESCO STORE 2960          3.35            NaN   \n",
       "\n",
       "  Categories  \n",
       "0        NaN  \n",
       "1        NaN  \n",
       "2        NaN  \n",
       "3        NaN  \n",
       "4        NaN  "
      ]
     },
     "execution_count": 5,
     "metadata": {},
     "output_type": "execute_result"
    }
   ],
   "source": [
    "## merge cat table with df \n",
    "MergeTable = pd.merge(df,\n",
    "                        cat,\n",
    "                        on = 'Transaction Description',\n",
    "                        how = 'left',\n",
    "                        suffixes = ('','_DROP')).filter(regex='^(?!.*_DROP)')\n",
    "\n",
    "MergeTable = MergeTable.drop_duplicates(ignore_index=True)\n",
    "\n",
    "##identifly Nan cat and save\n",
    "\n",
    "catn = MergeTable[MergeTable['Categories'].isna()]\n",
    "catn = catn.drop_duplicates(ignore_index=True)\n",
    "catn = catn.loc[:, ~catn.columns.str.contains('^Unnamed')]\n",
    "catn.to_excel(catnpath,index=False)"
   ]
  },
  {
   "cell_type": "code",
   "execution_count": null,
   "metadata": {},
   "outputs": [
    {
     "data": {
      "text/plain": [
       "<AxesSubplot:title={'center':'Total Expenses'}, ylabel='Debit Amount'>"
      ]
     },
     "execution_count": 6,
     "metadata": {},
     "output_type": "execute_result"
    },
    {
     "data": {
      "image/png": "[encoded data removed]",
      "text/plain": [
       "<Figure size 432x288 with 1 Axes>"
      ]
     },
     "metadata": {},
     "output_type": "display_data"
    }
   ],
   "source": [
    "\n",
    "cato = cat[cat['Categories'].notna()]\n",
    "cato = cato.drop_duplicates(ignore_index=True)\n",
    "cato = cato.loc[:, ~cato.columns.str.contains('^Unnamed')]\n",
    "cato.to_excel(catopath,index=False)"
   ]
  },
  {
   "cell_type": "code",
   "execution_count": null,
   "metadata": {},
   "outputs": [],
   "source": [
    "##store the new Categories to excel file \n",
    "MergeTable = MergeTable.loc[:, ~MergeTable.columns.str.contains('^Unnamed')]\n",
    "MergeTable.to_csv(dfopath, index=False)\n",
    "\n",
    "# move and rename dfn to backup file \n",
    "\n",
    "backup_path = 'AccountApp/Streamlit/pages/Temp/Record/Backup/'+str(date.today())+'.csv'\n",
    "os.rename(dfnpath,backup_path)"
   ]
  },
  {
   "cell_type": "code",
   "execution_count": 8,
   "metadata": {},
   "outputs": [
    {
     "name": "stderr",
     "output_type": "stream",
     "text": [
      "2022-08-12 14:07:15.014 \n",
      "  \u001b[33m\u001b[1mWarning:\u001b[0m to view this Streamlit app on a browser, run it with the following\n",
      "  command:\n",
      "\n",
      "    streamlit run /Library/Frameworks/Python.framework/Versions/3.10/lib/python3.10/site-packages/ipykernel_launcher.py [ARGUMENTS]\n"
     ]
    },
    {
     "data": {
      "text/plain": [
       "AgGridReturn(data=    Transaction Date Transaction Description  Debit Amount  Credit Amount  \\\n",
       "0         25/04/2022             COMMON ROOM         14.50            NaN   \n",
       "1         25/04/2022      J D WETHERSPOON PL          6.45            NaN   \n",
       "2         25/04/2022                 RCPMOTO       1543.26            NaN   \n",
       "3         26/04/2022       NTSU - CITY COSTA          4.50            NaN   \n",
       "4         26/04/2022        TESCO STORE 2960          3.35            NaN   \n",
       "..               ...                     ...           ...            ...   \n",
       "222              NaN                 PRIMARK          9.00            NaN   \n",
       "223              NaN       TESCO STORES 5954          0.80            NaN   \n",
       "224              NaN          PAYPAL PAYMENT          5.00            NaN   \n",
       "225              NaN          PAYPAL PAYMENT          1.00            NaN   \n",
       "226              NaN                     nan           NaN            NaN   \n",
       "\n",
       "    Categories  \n",
       "0          NaN  \n",
       "1          NaN  \n",
       "2          NaN  \n",
       "3          NaN  \n",
       "4          NaN  \n",
       "..         ...  \n",
       "222     cloths  \n",
       "223   grocerys  \n",
       "224   personal  \n",
       "225   personal  \n",
       "226        NaN  \n",
       "\n",
       "[227 rows x 5 columns], selected_rows=[])"
      ]
     },
     "execution_count": 8,
     "metadata": {},
     "output_type": "execute_result"
    }
   ],
   "source": []
  },
  {
   "cell_type": "code",
   "execution_count": 1,
   "metadata": {},
   "outputs": [
    {
     "name": "stderr",
     "output_type": "stream",
     "text": [
      "2022-09-30 23:48:42.476 \n",
      "  \u001b[33m\u001b[1mWarning:\u001b[0m to view this Streamlit app on a browser, run it with the following\n",
      "  command:\n",
      "\n",
      "    streamlit run /Library/Frameworks/Python.framework/Versions/3.10/lib/python3.10/site-packages/ipykernel_launcher.py [ARGUMENTS]\n"
     ]
    },
    {
     "ename": "AttributeError",
     "evalue": "'DataFrameGroupBy' object has no attribute 'reset_index'",
     "output_type": "error",
     "traceback": [
      "\u001b[0;31m---------------------------------------------------------------------------\u001b[0m",
      "\u001b[0;31mAttributeError\u001b[0m                            Traceback (most recent call last)",
      "\u001b[1;32m/Users/nigel/Library/Mobile Documents/com~apple~CloudDocs/Programme/AccountApp/Streamlit/PandasPractise.ipynb Cell 6\u001b[0m in \u001b[0;36m<cell line: 37>\u001b[0;34m()\u001b[0m\n\u001b[1;32m     <a href='vscode-notebook-cell:/Users/nigel/Library/Mobile%20Documents/com~apple~CloudDocs/Programme/AccountApp/Streamlit/PandasPractise.ipynb#W5sZmlsZQ%3D%3D?line=32'>33</a>\u001b[0m st\u001b[39m.\u001b[39mmarkdown(\u001b[39mf\u001b[39m\u001b[39m\"\u001b[39m\u001b[39m*Avalible Results : \u001b[39m\u001b[39m{\u001b[39;00mnumber_of_results\u001b[39m}\u001b[39;00m\u001b[39m*\u001b[39m\u001b[39m\"\u001b[39m)\n\u001b[1;32m     <a href='vscode-notebook-cell:/Users/nigel/Library/Mobile%20Documents/com~apple~CloudDocs/Programme/AccountApp/Streamlit/PandasPractise.ipynb#W5sZmlsZQ%3D%3D?line=34'>35</a>\u001b[0m df_grouped \u001b[39m=\u001b[39m df[mask]\u001b[39m.\u001b[39mgroupby(by\u001b[39m=\u001b[39m[\u001b[39m\"\u001b[39m\u001b[39mCategories\u001b[39m\u001b[39m\"\u001b[39m])\n\u001b[0;32m---> <a href='vscode-notebook-cell:/Users/nigel/Library/Mobile%20Documents/com~apple~CloudDocs/Programme/AccountApp/Streamlit/PandasPractise.ipynb#W5sZmlsZQ%3D%3D?line=36'>37</a>\u001b[0m df_grouped\u001b[39m.\u001b[39;49mreset_index(inpalce \u001b[39m=\u001b[39m \u001b[39mTrue\u001b[39;00m)\n\u001b[1;32m     <a href='vscode-notebook-cell:/Users/nigel/Library/Mobile%20Documents/com~apple~CloudDocs/Programme/AccountApp/Streamlit/PandasPractise.ipynb#W5sZmlsZQ%3D%3D?line=38'>39</a>\u001b[0m AgGrid(df)\n",
      "File \u001b[0;32m/Library/Frameworks/Python.framework/Versions/3.10/lib/python3.10/site-packages/pandas/core/groupby/groupby.py:904\u001b[0m, in \u001b[0;36mGroupBy.__getattr__\u001b[0;34m(self, attr)\u001b[0m\n\u001b[1;32m    901\u001b[0m \u001b[39mif\u001b[39;00m attr \u001b[39min\u001b[39;00m \u001b[39mself\u001b[39m\u001b[39m.\u001b[39mobj:\n\u001b[1;32m    902\u001b[0m     \u001b[39mreturn\u001b[39;00m \u001b[39mself\u001b[39m[attr]\n\u001b[0;32m--> 904\u001b[0m \u001b[39mraise\u001b[39;00m \u001b[39mAttributeError\u001b[39;00m(\n\u001b[1;32m    905\u001b[0m     \u001b[39mf\u001b[39m\u001b[39m\"\u001b[39m\u001b[39m'\u001b[39m\u001b[39m{\u001b[39;00m\u001b[39mtype\u001b[39m(\u001b[39mself\u001b[39m)\u001b[39m.\u001b[39m\u001b[39m__name__\u001b[39m\u001b[39m}\u001b[39;00m\u001b[39m'\u001b[39m\u001b[39m object has no attribute \u001b[39m\u001b[39m'\u001b[39m\u001b[39m{\u001b[39;00mattr\u001b[39m}\u001b[39;00m\u001b[39m'\u001b[39m\u001b[39m\"\u001b[39m\n\u001b[1;32m    906\u001b[0m )\n",
      "\u001b[0;31mAttributeError\u001b[0m: 'DataFrameGroupBy' object has no attribute 'reset_index'"
     ]
    }
   ],
   "source": []
  }
 ],
 "metadata": {
  "kernelspec": {
   "display_name": "Python 3.10.6 64-bit",
   "language": "python",
   "name": "python3"
  },
  "language_info": {
   "codemirror_mode": {
    "name": "ipython",
    "version": 3
   },
   "file_extension": ".py",
   "mimetype": "text/x-python",
   "name": "python",
   "nbconvert_exporter": "python",
   "pygments_lexer": "ipython3",
   "version": "3.10.6"
  },
  "vscode": {
   "interpreter": {
    "hash": "aee8b7b246df8f9039afb4144a1f6fd8d2ca17a180786b69acc140d282b71a49"
   }
  }
 },
 "nbformat": 4,
 "nbformat_minor": 2
}
