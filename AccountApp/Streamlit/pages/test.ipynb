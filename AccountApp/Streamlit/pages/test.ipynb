{
 "cells": [
  {
   "cell_type": "code",
   "execution_count": 38,
   "metadata": {},
   "outputs": [],
   "source": [
    "import streamlit as st\n",
    "import pandas as pd \n",
    "import numpy as np\n",
    "from st_aggrid import AgGrid\n",
    "from st_aggrid.grid_options_builder import GridOptionsBuilder\n",
    "import os\n",
    "\n",
    "st.title(\"Categries uploader\")\n",
    "\n",
    "# --- path ---\n",
    "catnpath = '/Users/nigel/Library/Mobile Documents/com~apple~CloudDocs/Programme/Temp/Excel/DiscriptionCategories.xlsx'\n",
    "path = '/Users/nigel/Library/Mobile Documents/com~apple~CloudDocs/Programme/Temp/Record/DiscriptionCategories.xlsx'\n",
    "cat_list_path = \"/Users/nigel/Library/Mobile Documents/com~apple~CloudDocs/Programme/Temp/Excel/Indcat.csv\"\n",
    "\n",
    "catn = pd.read_excel(catnpath)\n",
    "# cato = pd.read_excel(catopath)\n",
    "# cato.sort_index(ascending=False)\n",
    "\n",
    "cat_list = pd.read_csv(cat_list_path)\n",
    "cat_list = cat_list['cat_name']\n",
    "cat_list = cat_list.dropna(how=\"all\")\n",
    "\n",
    "tran_list = catn[\"Transaction Description\"]\n",
    "tran_list = tran_list.drop_duplicates()\n",
    "tran_list.sort_values(inplace=True)"
   ]
  },
  {
   "cell_type": "code",
   "execution_count": 41,
   "metadata": {},
   "outputs": [
    {
     "data": {
      "text/plain": [
       "str"
      ]
     },
     "execution_count": 41,
     "metadata": {},
     "output_type": "execute_result"
    }
   ],
   "source": [
    "st.subheader(\"Uncated transaction\")\n",
    "\n",
    "gd = GridOptionsBuilder.from_dataframe(catn)\n",
    "gd.configure_pagination(enabled = True)\n",
    "gd.configure_default_column(editable = True, groupable = True)\n",
    "\n",
    "AgGrid(catn,width=7000)\n",
    "\n",
    "st.sidebar.header(\"Please update new categories\")\n",
    "\n",
    "input_form = st.sidebar.form(\"Input_Form\")\n",
    "    \n",
    "Transaction = input_form.selectbox(\"Transaction Description\",tran_list)\n",
    "categories = input_form.selectbox(\"Categories\",cat_list)\n",
    "add_data = input_form.form_submit_button()\n",
    "\n",
    "# add_data not yet done \n",
    "\n",
    "if add_data:\n",
    "    # new_data = pd.DataFrame({\"Transaction Description\": Transaction, \"Categories\": categories},index=[0])\n",
    "    new_data = pd.DataFrame({\"Transaction Description\":\"ALDI\", \"Categories\": \"4.1.Groceries\" ,}, index=[0])\n",
    "    catn.loc[catn[ \"Transaction Description\" == Transaction],\"Categories\"] = categories\n",
    "    # catn.to_excel(catopath,index=\"false\")\n",
    "    st.write(catn)\n",
    "\n",
    "# new_data = pd.DataFrame.from_dict(new_data)\n",
    "new_data = str(\"ALDI\")\n",
    "catn.loc[catn[\"Transaction Description\"] == new_data] \n",
    "type(Transaction)"
   ]
  },
  {
   "cell_type": "code",
   "execution_count": 42,
   "metadata": {},
   "outputs": [],
   "source": [
    "# def matchandreplace(base, input,ref_col:str,sel_col1=None, sel_col2=None, sel_col3=None):\n",
    "#     df = pd.merge(base,\n",
    "#                 input,\n",
    "#                 on=ref_col,\n",
    "#                 how=\"left\")\n",
    "    \n",
    "#     df.loc[df[ \"Transaction Description\" == tran_list ],\"Categories\"] = cat_list\n",
    "#     # if -- apply columne \n",
    "\n",
    "# matchandreplace(MergeTable,new_data,\"Transaction Description\")"
   ]
  }
 ],
 "metadata": {
  "kernelspec": {
   "display_name": "Python 3.10.6 64-bit",
   "language": "python",
   "name": "python3"
  },
  "language_info": {
   "codemirror_mode": {
    "name": "ipython",
    "version": 3
   },
   "file_extension": ".py",
   "mimetype": "text/x-python",
   "name": "python",
   "nbconvert_exporter": "python",
   "pygments_lexer": "ipython3",
   "version": "3.10.6"
  },
  "orig_nbformat": 4,
  "vscode": {
   "interpreter": {
    "hash": "aee8b7b246df8f9039afb4144a1f6fd8d2ca17a180786b69acc140d282b71a49"
   }
  }
 },
 "nbformat": 4,
 "nbformat_minor": 2
}
