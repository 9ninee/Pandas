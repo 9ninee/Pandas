{
 "cells": [
  {
   "cell_type": "code",
   "execution_count": null,
   "metadata": {},
   "outputs": [],
   "source": [
    "import pandas as pd\n",
    "import numpy as np\n",
    "import os\n",
    "from datetime import date\n",
    "\n",
    "pd.set_option('display.max.columns',100)\n",
    "\n",
    "##sources of file \n",
    "dfnpath = 'Excel/15101160_20220519_0443.xlsx'\n",
    "dfopath = 'Record/Data.csv'\n",
    "catnpath = 'Excel/DiscriptionCategories.xlsx'\n",
    "catopath = 'Record/DiscriptionCategories.xlsx'\n",
    "\n",
    "## \n",
    "df = pd.read_excel(dfnpath,index_col=[0])\n",
    "dfo = pd.read_csv(dfopath,encoding='latin1',index_col=[0])\n",
    "catn = pd.read_excel(catnpath)\n",
    "cato = pd.read_excel(catopath)\n",
    "df = df.dropna(axis=1,how='all')\n",
    "dfo = dfo.dropna(axis=1,how='all')\n"
   ]
  },
  {
   "cell_type": "markdown",
   "metadata": {},
   "source": []
  },
  {
   "cell_type": "code",
   "execution_count": null,
   "metadata": {},
   "outputs": [],
   "source": [
    "\n",
    "## delete columns from the table \n",
    "df = df.drop(columns=['Account Number','Balance','Transaction Type','Sort Code'])\n",
    "catn = catn.drop(columns=['Transaction Date','Debit Amount','Credit Amount'])\n",
    "\n",
    "# combine new and old cat table\n",
    "cat = pd.concat([catn,cato], ignore_index=True)\n",
    "df = pd.concat([df,dfo], ignore_index=True)\n",
    "\n",
    "\n",
    "## change data type into string \n",
    "df['Transaction Description'] = df['Transaction Description'].astype(str)"
   ]
  },
  {
   "cell_type": "code",
   "execution_count": null,
   "metadata": {},
   "outputs": [],
   "source": [
    "## merge cat table with df \n",
    "MergeTable = pd.merge(df,\n",
    "                        cat,\n",
    "                        on = 'Transaction Description',\n",
    "                        how = 'left',\n",
    "                        suffixes = ('','_DROP')).filter(regex='^(?!.*_DROP)')\n",
    "\n",
    "MergeTable = MergeTable.drop_duplicates(ignore_index=True)\n",
    "\n",
    "##identifly Nan cat and save\n",
    "\n",
    "catn = MergeTable[MergeTable['Categories'].isna()]\n",
    "catn = catn.drop_duplicates(ignore_index=True)\n",
    "catn = catn.loc[:, ~catn.columns.str.contains('^Unnamed')]\n",
    "catn.to_excel(catnpath,index=False)\n",
    "catn.head()"
   ]
  },
  {
   "cell_type": "code",
   "execution_count": null,
   "metadata": {},
   "outputs": [],
   "source": [
    "\n",
    "cato = cat[cat['Categories'].notna()]\n",
    "cato = cato.drop_duplicates(ignore_index=True)\n",
    "cato = cato.loc[:, ~cato.columns.str.contains('^Unnamed')]\n",
    "cato.to_excel(catopath,index=False)\n",
    "cato.head()\n",
    "\n",
    "MergeTable.groupby(['Categories'],as_index = True).agg({'Debit Amount':'sum','Credit Amount':'sum'}).plot(kind='pie',y='Debit Amount',title = 'Total Expenses',startangle=60)"
   ]
  },
  {
   "cell_type": "code",
   "execution_count": null,
   "metadata": {},
   "outputs": [],
   "source": [
    "##store the new Categories to excel file \n",
    "MergeTable = MergeTable.loc[:, ~MergeTable.columns.str.contains('^Unnamed')]\n",
    "MergeTable.to_csv(dfopath, index=False)\n",
    "\n",
    "# move and rename dfn to backup file \n",
    "\n",
    "backup_path = 'Record/Backup/'+str(date.today())+'.csv'\n",
    "os.rename(dfnpath,backup_path)\n"
   ]
  }
 ],
 "metadata": {
  "kernelspec": {
   "display_name": "Python 3.10.6 64-bit",
   "language": "python",
   "name": "python3"
  },
  "language_info": {
   "codemirror_mode": {
    "name": "ipython",
    "version": 3
   },
   "file_extension": ".py",
   "mimetype": "text/x-python",
   "name": "python",
   "nbconvert_exporter": "python",
   "pygments_lexer": "ipython3",
   "version": "3.10.6"
  },
  "vscode": {
   "interpreter": {
    "hash": "aee8b7b246df8f9039afb4144a1f6fd8d2ca17a180786b69acc140d282b71a49"
   }
  }
 },
 "nbformat": 4,
 "nbformat_minor": 2
}
