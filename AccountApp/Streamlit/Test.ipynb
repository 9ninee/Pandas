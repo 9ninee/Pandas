{
 "cells": [
  {
   "cell_type": "code",
   "execution_count": 92,
   "metadata": {},
   "outputs": [
    {
     "name": "stdout",
     "output_type": "stream",
     "text": [
      "<class 'pandas.core.frame.DataFrame'>\n",
      "RangeIndex: 224 entries, 0 to 223\n",
      "Data columns (total 9 columns):\n",
      " #   Column                   Non-Null Count  Dtype         \n",
      "---  ------                   --------------  -----         \n",
      " 0   Transaction Date         224 non-null    datetime64[ns]\n",
      " 1   Transaction Type         224 non-null    object        \n",
      " 2   Sort Code                224 non-null    object        \n",
      " 3   Account Number           224 non-null    float64       \n",
      " 4   Transaction Description  224 non-null    object        \n",
      " 5   Debit Amount             204 non-null    float64       \n",
      " 6   Credit Amount            20 non-null     float64       \n",
      " 7   Balance                  224 non-null    float64       \n",
      " 8   Categories               136 non-null    object        \n",
      "dtypes: datetime64[ns](1), float64(4), object(4)\n",
      "memory usage: 15.9+ KB\n"
     ]
    }
   ],
   "source": [
    "import Acc_Function\n",
    "import pandas as pd \n",
    "import glob\n",
    "import os\n",
    "\n",
    "df_path = 'pages/Temp/Record/Data.csv'\n",
    "dfo = pd.read_csv(df_path,parse_dates=['Transaction Date'],dayfirst=True)\n",
    "\n",
    "path = \"pages/Temp/Record/Banknote/\"\n",
    "csv_files = glob.glob(os.path.join(path, \"*.csv\"))\n",
    "global table\n",
    "table = []\n",
    "\n",
    "for f in csv_files:\n",
    "    df = pd.read_csv(f)\n",
    "    catn,cat,MergeTable = Acc_Function.func.dfmerge(df,cat)\n",
    "    table.append(MergeTable)\n",
    "\n",
    "# dfn = pd.concat(table,ignore_index=True)\n",
    "# dfnew = pd.concat([dfn,dfo],ignore_index=True)\n",
    "dfo.info()\n",
    "\n"
   ]
  },
  {
   "cell_type": "markdown",
   "metadata": {},
   "source": []
  }
 ],
 "metadata": {
  "kernelspec": {
   "display_name": "Python 3.10.6 64-bit",
   "language": "python",
   "name": "python3"
  },
  "language_info": {
   "codemirror_mode": {
    "name": "ipython",
    "version": 3
   },
   "file_extension": ".py",
   "mimetype": "text/x-python",
   "name": "python",
   "nbconvert_exporter": "python",
   "pygments_lexer": "ipython3",
   "version": "3.10.6"
  },
  "orig_nbformat": 4,
  "vscode": {
   "interpreter": {
    "hash": "aee8b7b246df8f9039afb4144a1f6fd8d2ca17a180786b69acc140d282b71a49"
   }
  }
 },
 "nbformat": 4,
 "nbformat_minor": 2
}
